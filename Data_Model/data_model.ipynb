{
 "cells": [
  {
   "cell_type": "code",
   "execution_count": 155,
   "metadata": {},
   "outputs": [],
   "source": [
    "import psycopg2\n",
    "import os\n",
    "from dotenv import load_dotenv\n",
    "import pandas as pd"
   ]
  },
  {
   "cell_type": "code",
   "execution_count": 156,
   "metadata": {},
   "outputs": [],
   "source": [
    "load_dotenv()\n",
    "db_pass=os.getenv(\"DB_PASS\")"
   ]
  },
  {
   "cell_type": "code",
   "execution_count": 157,
   "metadata": {},
   "outputs": [],
   "source": [
    "\n",
    "def create_database(db_pass):\n",
    "    # connect to default database\n",
    "    try:\n",
    "        initial_conn = psycopg2.connect(dbname=\"postgres\", user=\"postgres\",\n",
    "                                        host=\"localhost\", port=\"5432\", password=db_pass)\n",
    "        initial_conn.autocommit = True\n",
    "        print(\"connection successful\")\n",
    "    except Exception as error:\n",
    "        print(f\"connection failed :{error}\")\n",
    "\n",
    "    # create twitter database\n",
    "    db_name = \"twitter\"\n",
    "    with initial_conn.cursor() as cur:\n",
    "        cur.execute(f\"SELECT 1 FROM pg_database WHERE datname = '{db_name}'\")\n",
    "        exists = cur.fetchone()\n",
    "        if not exists:\n",
    "            cur.execute(f\"\"\" CREATE DATABASE {db_name}\"\"\")\n",
    "            print(f\"Database {db_name} created \")\n",
    "        else:\n",
    "            print(f\"Database {db_name} already exists \")\n",
    "    #close connection to default database\n",
    "    initial_conn.close()\n",
    "\n",
    "    # connect to twitter database\n",
    "    try:\n",
    "        conn = psycopg2.connect(dbname=db_name, user=\"postgres\",\n",
    "                                        host=\"localhost\", port=\"5432\", password=db_pass)\n",
    "        conn.autocommit = True\n",
    "        cur = conn.cursor()\n",
    "        print(f\"connection successful to {db_name} database\")\n",
    "    except Exception as error:\n",
    "        print(f\"connection failed :{error}\")\n",
    "\n",
    "    return conn\n"
   ]
  },
  {
   "cell_type": "markdown",
   "metadata": {},
   "source": [
    "### Preparing the dataset"
   ]
  },
  {
   "cell_type": "code",
   "execution_count": 158,
   "metadata": {},
   "outputs": [
    {
     "data": {
      "text/html": [
       "<div>\n",
       "<style scoped>\n",
       "    .dataframe tbody tr th:only-of-type {\n",
       "        vertical-align: middle;\n",
       "    }\n",
       "\n",
       "    .dataframe tbody tr th {\n",
       "        vertical-align: top;\n",
       "    }\n",
       "\n",
       "    .dataframe thead th {\n",
       "        text-align: right;\n",
       "    }\n",
       "</style>\n",
       "<table border=\"1\" class=\"dataframe\">\n",
       "  <thead>\n",
       "    <tr style=\"text-align: right;\">\n",
       "      <th></th>\n",
       "      <th>author</th>\n",
       "      <th>content</th>\n",
       "      <th>country</th>\n",
       "      <th>date_time</th>\n",
       "      <th>id</th>\n",
       "      <th>language</th>\n",
       "      <th>latitude</th>\n",
       "      <th>longitude</th>\n",
       "      <th>number_of_likes</th>\n",
       "      <th>number_of_shares</th>\n",
       "    </tr>\n",
       "  </thead>\n",
       "  <tbody>\n",
       "    <tr>\n",
       "      <th>0</th>\n",
       "      <td>katyperry</td>\n",
       "      <td>Is history repeating itself...?#DONTNORMALIZEH...</td>\n",
       "      <td>NaN</td>\n",
       "      <td>12/01/2017 19:52</td>\n",
       "      <td>8.196330e+17</td>\n",
       "      <td>en</td>\n",
       "      <td>NaN</td>\n",
       "      <td>NaN</td>\n",
       "      <td>7900</td>\n",
       "      <td>3472</td>\n",
       "    </tr>\n",
       "    <tr>\n",
       "      <th>1</th>\n",
       "      <td>katyperry</td>\n",
       "      <td>@barackobama Thank you for your incredible gra...</td>\n",
       "      <td>NaN</td>\n",
       "      <td>11/01/2017 08:38</td>\n",
       "      <td>8.191010e+17</td>\n",
       "      <td>en</td>\n",
       "      <td>NaN</td>\n",
       "      <td>NaN</td>\n",
       "      <td>3689</td>\n",
       "      <td>1380</td>\n",
       "    </tr>\n",
       "    <tr>\n",
       "      <th>2</th>\n",
       "      <td>katyperry</td>\n",
       "      <td>Life goals. https://t.co/XIn1qKMKQl</td>\n",
       "      <td>NaN</td>\n",
       "      <td>11/01/2017 02:52</td>\n",
       "      <td>8.190140e+17</td>\n",
       "      <td>en</td>\n",
       "      <td>NaN</td>\n",
       "      <td>NaN</td>\n",
       "      <td>10341</td>\n",
       "      <td>2387</td>\n",
       "    </tr>\n",
       "    <tr>\n",
       "      <th>3</th>\n",
       "      <td>katyperry</td>\n",
       "      <td>Me right now 🙏🏻 https://t.co/gW55C1wrwd</td>\n",
       "      <td>NaN</td>\n",
       "      <td>11/01/2017 02:44</td>\n",
       "      <td>8.190120e+17</td>\n",
       "      <td>en</td>\n",
       "      <td>NaN</td>\n",
       "      <td>NaN</td>\n",
       "      <td>10774</td>\n",
       "      <td>2458</td>\n",
       "    </tr>\n",
       "    <tr>\n",
       "      <th>4</th>\n",
       "      <td>katyperry</td>\n",
       "      <td>SISTERS ARE DOIN' IT FOR THEMSELVES! 🙌🏻💪🏻❤️ ht...</td>\n",
       "      <td>NaN</td>\n",
       "      <td>10/01/2017 05:22</td>\n",
       "      <td>8.186890e+17</td>\n",
       "      <td>en</td>\n",
       "      <td>NaN</td>\n",
       "      <td>NaN</td>\n",
       "      <td>17620</td>\n",
       "      <td>4655</td>\n",
       "    </tr>\n",
       "  </tbody>\n",
       "</table>\n",
       "</div>"
      ],
      "text/plain": [
       "      author                                            content country  \\\n",
       "0  katyperry  Is history repeating itself...?#DONTNORMALIZEH...     NaN   \n",
       "1  katyperry  @barackobama Thank you for your incredible gra...     NaN   \n",
       "2  katyperry                Life goals. https://t.co/XIn1qKMKQl     NaN   \n",
       "3  katyperry            Me right now 🙏🏻 https://t.co/gW55C1wrwd     NaN   \n",
       "4  katyperry  SISTERS ARE DOIN' IT FOR THEMSELVES! 🙌🏻💪🏻❤️ ht...     NaN   \n",
       "\n",
       "          date_time            id language  latitude  longitude  \\\n",
       "0  12/01/2017 19:52  8.196330e+17       en       NaN        NaN   \n",
       "1  11/01/2017 08:38  8.191010e+17       en       NaN        NaN   \n",
       "2  11/01/2017 02:52  8.190140e+17       en       NaN        NaN   \n",
       "3  11/01/2017 02:44  8.190120e+17       en       NaN        NaN   \n",
       "4  10/01/2017 05:22  8.186890e+17       en       NaN        NaN   \n",
       "\n",
       "   number_of_likes  number_of_shares  \n",
       "0             7900              3472  \n",
       "1             3689              1380  \n",
       "2            10341              2387  \n",
       "3            10774              2458  \n",
       "4            17620              4655  "
      ]
     },
     "execution_count": 158,
     "metadata": {},
     "output_type": "execute_result"
    }
   ],
   "source": [
    "df = pd.read_csv(\"../twitter_data/tweets.csv\")\n",
    "df.head()"
   ]
  },
  {
   "cell_type": "code",
   "execution_count": 159,
   "metadata": {},
   "outputs": [
    {
     "data": {
      "text/plain": [
       "author                  0\n",
       "content                 0\n",
       "country             52506\n",
       "date_time               0\n",
       "id                      0\n",
       "language                0\n",
       "latitude            52541\n",
       "longitude           52541\n",
       "number_of_likes         0\n",
       "number_of_shares        0\n",
       "dtype: int64"
      ]
     },
     "execution_count": 159,
     "metadata": {},
     "output_type": "execute_result"
    }
   ],
   "source": [
    "df.isnull().sum()"
   ]
  },
  {
   "cell_type": "code",
   "execution_count": 160,
   "metadata": {},
   "outputs": [
    {
     "data": {
      "text/html": [
       "<div>\n",
       "<style scoped>\n",
       "    .dataframe tbody tr th:only-of-type {\n",
       "        vertical-align: middle;\n",
       "    }\n",
       "\n",
       "    .dataframe tbody tr th {\n",
       "        vertical-align: top;\n",
       "    }\n",
       "\n",
       "    .dataframe thead th {\n",
       "        text-align: right;\n",
       "    }\n",
       "</style>\n",
       "<table border=\"1\" class=\"dataframe\">\n",
       "  <thead>\n",
       "    <tr style=\"text-align: right;\">\n",
       "      <th></th>\n",
       "      <th>author</th>\n",
       "      <th>content</th>\n",
       "      <th>date_time</th>\n",
       "      <th>id</th>\n",
       "      <th>language</th>\n",
       "      <th>number_of_likes</th>\n",
       "      <th>number_of_shares</th>\n",
       "    </tr>\n",
       "  </thead>\n",
       "  <tbody>\n",
       "    <tr>\n",
       "      <th>0</th>\n",
       "      <td>katyperry</td>\n",
       "      <td>Is history repeating itself...?#DONTNORMALIZEH...</td>\n",
       "      <td>12/01/2017 19:52</td>\n",
       "      <td>8.196330e+17</td>\n",
       "      <td>en</td>\n",
       "      <td>7900</td>\n",
       "      <td>3472</td>\n",
       "    </tr>\n",
       "    <tr>\n",
       "      <th>1</th>\n",
       "      <td>katyperry</td>\n",
       "      <td>@barackobama Thank you for your incredible gra...</td>\n",
       "      <td>11/01/2017 08:38</td>\n",
       "      <td>8.191010e+17</td>\n",
       "      <td>en</td>\n",
       "      <td>3689</td>\n",
       "      <td>1380</td>\n",
       "    </tr>\n",
       "    <tr>\n",
       "      <th>2</th>\n",
       "      <td>katyperry</td>\n",
       "      <td>Life goals. https://t.co/XIn1qKMKQl</td>\n",
       "      <td>11/01/2017 02:52</td>\n",
       "      <td>8.190140e+17</td>\n",
       "      <td>en</td>\n",
       "      <td>10341</td>\n",
       "      <td>2387</td>\n",
       "    </tr>\n",
       "    <tr>\n",
       "      <th>3</th>\n",
       "      <td>katyperry</td>\n",
       "      <td>Me right now 🙏🏻 https://t.co/gW55C1wrwd</td>\n",
       "      <td>11/01/2017 02:44</td>\n",
       "      <td>8.190120e+17</td>\n",
       "      <td>en</td>\n",
       "      <td>10774</td>\n",
       "      <td>2458</td>\n",
       "    </tr>\n",
       "    <tr>\n",
       "      <th>4</th>\n",
       "      <td>katyperry</td>\n",
       "      <td>SISTERS ARE DOIN' IT FOR THEMSELVES! 🙌🏻💪🏻❤️ ht...</td>\n",
       "      <td>10/01/2017 05:22</td>\n",
       "      <td>8.186890e+17</td>\n",
       "      <td>en</td>\n",
       "      <td>17620</td>\n",
       "      <td>4655</td>\n",
       "    </tr>\n",
       "    <tr>\n",
       "      <th>...</th>\n",
       "      <td>...</td>\n",
       "      <td>...</td>\n",
       "      <td>...</td>\n",
       "      <td>...</td>\n",
       "      <td>...</td>\n",
       "      <td>...</td>\n",
       "      <td>...</td>\n",
       "    </tr>\n",
       "    <tr>\n",
       "      <th>52537</th>\n",
       "      <td>ddlovato</td>\n",
       "      <td>Life couldn't be better right now. 😊</td>\n",
       "      <td>06/01/2015 23:10</td>\n",
       "      <td>5.526030e+17</td>\n",
       "      <td>en</td>\n",
       "      <td>32799</td>\n",
       "      <td>23796</td>\n",
       "    </tr>\n",
       "    <tr>\n",
       "      <th>52538</th>\n",
       "      <td>ddlovato</td>\n",
       "      <td>First Monday back in action. I'd say 21.6 mile...</td>\n",
       "      <td>06/01/2015 02:17</td>\n",
       "      <td>5.522880e+17</td>\n",
       "      <td>en</td>\n",
       "      <td>21709</td>\n",
       "      <td>12511</td>\n",
       "    </tr>\n",
       "    <tr>\n",
       "      <th>52539</th>\n",
       "      <td>ddlovato</td>\n",
       "      <td>Crime shows, buddy, snuggles = the perfect Sun...</td>\n",
       "      <td>05/01/2015 03:42</td>\n",
       "      <td>5.519470e+17</td>\n",
       "      <td>en</td>\n",
       "      <td>25269</td>\n",
       "      <td>15583</td>\n",
       "    </tr>\n",
       "    <tr>\n",
       "      <th>52540</th>\n",
       "      <td>ddlovato</td>\n",
       "      <td>❄️ http://t.co/sHCFdPpGPa</td>\n",
       "      <td>05/01/2015 00:06</td>\n",
       "      <td>5.518920e+17</td>\n",
       "      <td>und</td>\n",
       "      <td>15985</td>\n",
       "      <td>10456</td>\n",
       "    </tr>\n",
       "    <tr>\n",
       "      <th>52541</th>\n",
       "      <td>ddlovato</td>\n",
       "      <td>❤️❄️✈️ http://t.co/ixmB5lv17Z</td>\n",
       "      <td>05/01/2015 00:02</td>\n",
       "      <td>5.518910e+17</td>\n",
       "      <td>und</td>\n",
       "      <td>16193</td>\n",
       "      <td>10822</td>\n",
       "    </tr>\n",
       "  </tbody>\n",
       "</table>\n",
       "<p>52542 rows × 7 columns</p>\n",
       "</div>"
      ],
      "text/plain": [
       "          author                                            content  \\\n",
       "0      katyperry  Is history repeating itself...?#DONTNORMALIZEH...   \n",
       "1      katyperry  @barackobama Thank you for your incredible gra...   \n",
       "2      katyperry                Life goals. https://t.co/XIn1qKMKQl   \n",
       "3      katyperry            Me right now 🙏🏻 https://t.co/gW55C1wrwd   \n",
       "4      katyperry  SISTERS ARE DOIN' IT FOR THEMSELVES! 🙌🏻💪🏻❤️ ht...   \n",
       "...          ...                                                ...   \n",
       "52537   ddlovato               Life couldn't be better right now. 😊   \n",
       "52538   ddlovato  First Monday back in action. I'd say 21.6 mile...   \n",
       "52539   ddlovato  Crime shows, buddy, snuggles = the perfect Sun...   \n",
       "52540   ddlovato                          ❄️ http://t.co/sHCFdPpGPa   \n",
       "52541   ddlovato                      ❤️❄️✈️ http://t.co/ixmB5lv17Z   \n",
       "\n",
       "              date_time            id language  number_of_likes  \\\n",
       "0      12/01/2017 19:52  8.196330e+17       en             7900   \n",
       "1      11/01/2017 08:38  8.191010e+17       en             3689   \n",
       "2      11/01/2017 02:52  8.190140e+17       en            10341   \n",
       "3      11/01/2017 02:44  8.190120e+17       en            10774   \n",
       "4      10/01/2017 05:22  8.186890e+17       en            17620   \n",
       "...                 ...           ...      ...              ...   \n",
       "52537  06/01/2015 23:10  5.526030e+17       en            32799   \n",
       "52538  06/01/2015 02:17  5.522880e+17       en            21709   \n",
       "52539  05/01/2015 03:42  5.519470e+17       en            25269   \n",
       "52540  05/01/2015 00:06  5.518920e+17      und            15985   \n",
       "52541  05/01/2015 00:02  5.518910e+17      und            16193   \n",
       "\n",
       "       number_of_shares  \n",
       "0                  3472  \n",
       "1                  1380  \n",
       "2                  2387  \n",
       "3                  2458  \n",
       "4                  4655  \n",
       "...                 ...  \n",
       "52537             23796  \n",
       "52538             12511  \n",
       "52539             15583  \n",
       "52540             10456  \n",
       "52541             10822  \n",
       "\n",
       "[52542 rows x 7 columns]"
      ]
     },
     "execution_count": 160,
     "metadata": {},
     "output_type": "execute_result"
    }
   ],
   "source": [
    "df.drop(columns=[\"latitude\", \"longitude\",\"country\"],axis=1,inplace=True)\n",
    "df"
   ]
  },
  {
   "cell_type": "code",
   "execution_count": 161,
   "metadata": {},
   "outputs": [],
   "source": [
    "df['date_time'] = pd.to_datetime(\n",
    "    df['date_time'], format='%d/%m/%Y %H:%M', errors='coerce')\n",
    "# df = df.dropna(subset=['date_time'])"
   ]
  },
  {
   "cell_type": "code",
   "execution_count": 162,
   "metadata": {},
   "outputs": [
    {
     "name": "stdout",
     "output_type": "stream",
     "text": [
      "<class 'pandas.core.frame.DataFrame'>\n",
      "RangeIndex: 52542 entries, 0 to 52541\n",
      "Data columns (total 7 columns):\n",
      " #   Column            Non-Null Count  Dtype         \n",
      "---  ------            --------------  -----         \n",
      " 0   author            52542 non-null  string        \n",
      " 1   content           52542 non-null  string        \n",
      " 2   date_time         52542 non-null  datetime64[ns]\n",
      " 3   id                52542 non-null  Int64         \n",
      " 4   language          52542 non-null  string        \n",
      " 5   number_of_likes   52542 non-null  Int64         \n",
      " 6   number_of_shares  52542 non-null  Int64         \n",
      "dtypes: Int64(3), datetime64[ns](1), string(3)\n",
      "memory usage: 3.0 MB\n"
     ]
    }
   ],
   "source": [
    "df = df.convert_dtypes()\n",
    "df.info()"
   ]
  },
  {
   "cell_type": "code",
   "execution_count": 163,
   "metadata": {},
   "outputs": [],
   "source": [
    "df.rename(columns={'date_time':'tweeted_time','id':'tweet_id'},inplace = True)\n"
   ]
  },
  {
   "cell_type": "code",
   "execution_count": 164,
   "metadata": {},
   "outputs": [
    {
     "data": {
      "text/html": [
       "<div>\n",
       "<style scoped>\n",
       "    .dataframe tbody tr th:only-of-type {\n",
       "        vertical-align: middle;\n",
       "    }\n",
       "\n",
       "    .dataframe tbody tr th {\n",
       "        vertical-align: top;\n",
       "    }\n",
       "\n",
       "    .dataframe thead th {\n",
       "        text-align: right;\n",
       "    }\n",
       "</style>\n",
       "<table border=\"1\" class=\"dataframe\">\n",
       "  <thead>\n",
       "    <tr style=\"text-align: right;\">\n",
       "      <th></th>\n",
       "      <th>author</th>\n",
       "      <th>content</th>\n",
       "      <th>tweeted_time</th>\n",
       "      <th>tweet_id</th>\n",
       "      <th>language</th>\n",
       "      <th>number_of_likes</th>\n",
       "      <th>number_of_shares</th>\n",
       "    </tr>\n",
       "  </thead>\n",
       "  <tbody>\n",
       "    <tr>\n",
       "      <th>0</th>\n",
       "      <td>katyperry</td>\n",
       "      <td>Is history repeating itself...?#DONTNORMALIZEH...</td>\n",
       "      <td>2017-01-12 19:52:00</td>\n",
       "      <td>819633000000000000</td>\n",
       "      <td>en</td>\n",
       "      <td>7900</td>\n",
       "      <td>3472</td>\n",
       "    </tr>\n",
       "    <tr>\n",
       "      <th>1</th>\n",
       "      <td>katyperry</td>\n",
       "      <td>@barackobama Thank you for your incredible gra...</td>\n",
       "      <td>2017-01-11 08:38:00</td>\n",
       "      <td>819101000000000000</td>\n",
       "      <td>en</td>\n",
       "      <td>3689</td>\n",
       "      <td>1380</td>\n",
       "    </tr>\n",
       "    <tr>\n",
       "      <th>2</th>\n",
       "      <td>katyperry</td>\n",
       "      <td>Life goals. https://t.co/XIn1qKMKQl</td>\n",
       "      <td>2017-01-11 02:52:00</td>\n",
       "      <td>819014000000000000</td>\n",
       "      <td>en</td>\n",
       "      <td>10341</td>\n",
       "      <td>2387</td>\n",
       "    </tr>\n",
       "    <tr>\n",
       "      <th>3</th>\n",
       "      <td>katyperry</td>\n",
       "      <td>Me right now 🙏🏻 https://t.co/gW55C1wrwd</td>\n",
       "      <td>2017-01-11 02:44:00</td>\n",
       "      <td>819012000000000000</td>\n",
       "      <td>en</td>\n",
       "      <td>10774</td>\n",
       "      <td>2458</td>\n",
       "    </tr>\n",
       "    <tr>\n",
       "      <th>4</th>\n",
       "      <td>katyperry</td>\n",
       "      <td>SISTERS ARE DOIN' IT FOR THEMSELVES! 🙌🏻💪🏻❤️ ht...</td>\n",
       "      <td>2017-01-10 05:22:00</td>\n",
       "      <td>818689000000000000</td>\n",
       "      <td>en</td>\n",
       "      <td>17620</td>\n",
       "      <td>4655</td>\n",
       "    </tr>\n",
       "    <tr>\n",
       "      <th>...</th>\n",
       "      <td>...</td>\n",
       "      <td>...</td>\n",
       "      <td>...</td>\n",
       "      <td>...</td>\n",
       "      <td>...</td>\n",
       "      <td>...</td>\n",
       "      <td>...</td>\n",
       "    </tr>\n",
       "    <tr>\n",
       "      <th>52537</th>\n",
       "      <td>ddlovato</td>\n",
       "      <td>Life couldn't be better right now. 😊</td>\n",
       "      <td>2015-01-06 23:10:00</td>\n",
       "      <td>552603000000000000</td>\n",
       "      <td>en</td>\n",
       "      <td>32799</td>\n",
       "      <td>23796</td>\n",
       "    </tr>\n",
       "    <tr>\n",
       "      <th>52538</th>\n",
       "      <td>ddlovato</td>\n",
       "      <td>First Monday back in action. I'd say 21.6 mile...</td>\n",
       "      <td>2015-01-06 02:17:00</td>\n",
       "      <td>552288000000000000</td>\n",
       "      <td>en</td>\n",
       "      <td>21709</td>\n",
       "      <td>12511</td>\n",
       "    </tr>\n",
       "    <tr>\n",
       "      <th>52539</th>\n",
       "      <td>ddlovato</td>\n",
       "      <td>Crime shows, buddy, snuggles = the perfect Sun...</td>\n",
       "      <td>2015-01-05 03:42:00</td>\n",
       "      <td>551947000000000000</td>\n",
       "      <td>en</td>\n",
       "      <td>25269</td>\n",
       "      <td>15583</td>\n",
       "    </tr>\n",
       "    <tr>\n",
       "      <th>52540</th>\n",
       "      <td>ddlovato</td>\n",
       "      <td>❄️ http://t.co/sHCFdPpGPa</td>\n",
       "      <td>2015-01-05 00:06:00</td>\n",
       "      <td>551892000000000000</td>\n",
       "      <td>und</td>\n",
       "      <td>15985</td>\n",
       "      <td>10456</td>\n",
       "    </tr>\n",
       "    <tr>\n",
       "      <th>52541</th>\n",
       "      <td>ddlovato</td>\n",
       "      <td>❤️❄️✈️ http://t.co/ixmB5lv17Z</td>\n",
       "      <td>2015-01-05 00:02:00</td>\n",
       "      <td>551891000000000000</td>\n",
       "      <td>und</td>\n",
       "      <td>16193</td>\n",
       "      <td>10822</td>\n",
       "    </tr>\n",
       "  </tbody>\n",
       "</table>\n",
       "<p>43641 rows × 7 columns</p>\n",
       "</div>"
      ],
      "text/plain": [
       "          author                                            content  \\\n",
       "0      katyperry  Is history repeating itself...?#DONTNORMALIZEH...   \n",
       "1      katyperry  @barackobama Thank you for your incredible gra...   \n",
       "2      katyperry                Life goals. https://t.co/XIn1qKMKQl   \n",
       "3      katyperry            Me right now 🙏🏻 https://t.co/gW55C1wrwd   \n",
       "4      katyperry  SISTERS ARE DOIN' IT FOR THEMSELVES! 🙌🏻💪🏻❤️ ht...   \n",
       "...          ...                                                ...   \n",
       "52537   ddlovato               Life couldn't be better right now. 😊   \n",
       "52538   ddlovato  First Monday back in action. I'd say 21.6 mile...   \n",
       "52539   ddlovato  Crime shows, buddy, snuggles = the perfect Sun...   \n",
       "52540   ddlovato                          ❄️ http://t.co/sHCFdPpGPa   \n",
       "52541   ddlovato                      ❤️❄️✈️ http://t.co/ixmB5lv17Z   \n",
       "\n",
       "             tweeted_time            tweet_id language  number_of_likes  \\\n",
       "0     2017-01-12 19:52:00  819633000000000000       en             7900   \n",
       "1     2017-01-11 08:38:00  819101000000000000       en             3689   \n",
       "2     2017-01-11 02:52:00  819014000000000000       en            10341   \n",
       "3     2017-01-11 02:44:00  819012000000000000       en            10774   \n",
       "4     2017-01-10 05:22:00  818689000000000000       en            17620   \n",
       "...                   ...                 ...      ...              ...   \n",
       "52537 2015-01-06 23:10:00  552603000000000000       en            32799   \n",
       "52538 2015-01-06 02:17:00  552288000000000000       en            21709   \n",
       "52539 2015-01-05 03:42:00  551947000000000000       en            25269   \n",
       "52540 2015-01-05 00:06:00  551892000000000000      und            15985   \n",
       "52541 2015-01-05 00:02:00  551891000000000000      und            16193   \n",
       "\n",
       "       number_of_shares  \n",
       "0                  3472  \n",
       "1                  1380  \n",
       "2                  2387  \n",
       "3                  2458  \n",
       "4                  4655  \n",
       "...                 ...  \n",
       "52537             23796  \n",
       "52538             12511  \n",
       "52539             15583  \n",
       "52540             10456  \n",
       "52541             10822  \n",
       "\n",
       "[43641 rows x 7 columns]"
      ]
     },
     "execution_count": 164,
     "metadata": {},
     "output_type": "execute_result"
    }
   ],
   "source": [
    "df.drop_duplicates(subset=['tweet_id'], inplace=True)\n",
    "df"
   ]
  },
  {
   "cell_type": "markdown",
   "metadata": {},
   "source": [
    "## Data Model Created\n",
    "\n",
    "![Data Model](Data_Model.png)"
   ]
  },
  {
   "cell_type": "markdown",
   "metadata": {},
   "source": [
    "## Create tables according the data model"
   ]
  },
  {
   "cell_type": "markdown",
   "metadata": {},
   "source": [
    "### Create schema"
   ]
  },
  {
   "cell_type": "code",
   "execution_count": 165,
   "metadata": {},
   "outputs": [
    {
     "name": "stdout",
     "output_type": "stream",
     "text": [
      "connection successful\n",
      "Database twitter created \n",
      "connection successful to twitter database\n",
      "Schema twitter_data created \n"
     ]
    }
   ],
   "source": [
    "conn = create_database(db_pass)\n",
    "with conn.cursor() as cur:\n",
    "    cur.execute(\"\"\" CREATE SCHEMA IF NOT EXISTS twitter_data\"\"\")\n",
    "    print(f\"Schema twitter_data created \")"
   ]
  },
  {
   "cell_type": "markdown",
   "metadata": {},
   "source": [
    "#### Create Author Table"
   ]
  },
  {
   "cell_type": "code",
   "execution_count": 166,
   "metadata": {},
   "outputs": [
    {
     "name": "stdout",
     "output_type": "stream",
     "text": [
      "Table Accounts Created\n"
     ]
    }
   ],
   "source": [
    "with conn.cursor() as cur:\n",
    "    cur.execute(\"\"\" CREATE TABLE IF NOT EXISTS twitter_data.Accounts(\n",
    "                author VARCHAR PRIMARY KEY)\"\"\")\n",
    "    print(\"Table Accounts Created\")"
   ]
  },
  {
   "cell_type": "markdown",
   "metadata": {},
   "source": [
    "#### Create language table"
   ]
  },
  {
   "cell_type": "code",
   "execution_count": 167,
   "metadata": {},
   "outputs": [
    {
     "name": "stdout",
     "output_type": "stream",
     "text": [
      "Table Language Created\n"
     ]
    }
   ],
   "source": [
    "with conn.cursor() as cur:\n",
    "    cur.execute(\"\"\" CREATE TABLE IF NOT EXISTS twitter_data.Language(\n",
    "                language VARCHAR PRIMARY KEY)\"\"\")\n",
    "    print(\"Table Language Created\")"
   ]
  },
  {
   "cell_type": "markdown",
   "metadata": {},
   "source": [
    "\n",
    "#### Create Tweets Table"
   ]
  },
  {
   "cell_type": "code",
   "execution_count": 168,
   "metadata": {},
   "outputs": [
    {
     "name": "stdout",
     "output_type": "stream",
     "text": [
      "Table Tweets created \n"
     ]
    }
   ],
   "source": [
    "with conn.cursor() as cur:\n",
    "    cur.execute(\"\"\" CREATE TABLE IF NOT EXISTS twitter_data.Tweets(\n",
    "                tweet_id BIGINT PRIMARY KEY,\n",
    "                author VARCHAR ,\n",
    "                content TEXT,\n",
    "                tweeted_time TIMESTAMP,\n",
    "                language TEXT,\n",
    "                number_of_likes INT,\n",
    "                number_of_shares INT,\n",
    "                FOREIGN KEY(author) REFERENCES twitter_data.Accounts(author),\n",
    "                FOREIGN KEY(language) REFERENCES twitter_data.language(language)\n",
    "                )\"\"\")\n",
    "    print(f\"Table Tweets created \")\n"
   ]
  },
  {
   "cell_type": "markdown",
   "metadata": {},
   "source": [
    "#### Create Foreign key Index"
   ]
  },
  {
   "cell_type": "code",
   "execution_count": 169,
   "metadata": {},
   "outputs": [],
   "source": [
    "with conn.cursor() as cur:\n",
    "    cur.execute(\"\"\"CREATE INDEX idx_tweets_author_fk ON twitter_data.Tweets (author)\"\"\")\n",
    "    cur.execute(\"\"\"CREATE INDEX idx_tweets_language_fk ON twitter_data.Language (language)\"\"\")\n"
   ]
  },
  {
   "cell_type": "markdown",
   "metadata": {},
   "source": [
    "### Insert data to Tables:"
   ]
  },
  {
   "cell_type": "code",
   "execution_count": 170,
   "metadata": {},
   "outputs": [],
   "source": [
    "accounts_insert_query = (\"\"\" INSERT INTO twitter_data.Accounts(author) VALUES (%s)\"\"\")\n",
    "\n",
    "accounts_data = df[['author']].drop_duplicates()\n",
    "accounts_values = [tuple(x) for x in accounts_data.values]\n",
    "# print(accounts_data.values)\n",
    "with conn.cursor() as cur:\n",
    "    cur.executemany(accounts_insert_query,accounts_values)"
   ]
  },
  {
   "cell_type": "code",
   "execution_count": 171,
   "metadata": {},
   "outputs": [],
   "source": [
    "language_insert_query = (\"\"\" INSERT INTO twitter_data.Language(language) VALUES (%s)\"\"\")\n",
    "language_data = df[['language']].drop_duplicates()\n",
    "language_values = [tuple(x) for x in language_data.values]\n",
    "with conn.cursor() as cur:\n",
    "    cur.executemany(language_insert_query,language_values)"
   ]
  },
  {
   "cell_type": "code",
   "execution_count": 172,
   "metadata": {},
   "outputs": [],
   "source": [
    "tweets_insert_query = (\n",
    "    \"\"\" INSERT INTO twitter_data.Tweets(author,content,tweeted_time,tweet_id,language,number_of_likes,number_of_shares) VALUES (%s,%s,%s,%s,%s,%s,%s)\"\"\")\n",
    "\n",
    "tweets_data = [tuple(x) for x in df.values]\n",
    "with conn.cursor() as cur:\n",
    "    cur.executemany(tweets_insert_query,tweets_data)"
   ]
  },
  {
   "cell_type": "code",
   "execution_count": 175,
   "metadata": {},
   "outputs": [],
   "source": [
    "conn.close()"
   ]
  },
  {
   "cell_type": "code",
   "execution_count": null,
   "metadata": {},
   "outputs": [],
   "source": []
  }
 ],
 "metadata": {
  "kernelspec": {
   "display_name": "venv",
   "language": "python",
   "name": "python3"
  },
  "language_info": {
   "codemirror_mode": {
    "name": "ipython",
    "version": 3
   },
   "file_extension": ".py",
   "mimetype": "text/x-python",
   "name": "python",
   "nbconvert_exporter": "python",
   "pygments_lexer": "ipython3",
   "version": "3.12.1"
  }
 },
 "nbformat": 4,
 "nbformat_minor": 2
}
